{
 "cells": [
  {
   "cell_type": "code",
   "execution_count": null,
   "id": "c7d5b5c3",
   "metadata": {},
   "outputs": [],
   "source": [
    "# NLP Quest\n",
    "\n",
    "## Summary\n",
    "    1. Trasformer\n",
    "    2. Data Normalization\n",
    "    3. MLP (Classification)"
   ]
  },
  {
   "cell_type": "code",
   "execution_count": null,
   "id": "450bd428",
   "metadata": {},
   "outputs": [],
   "source": [
    "import torch\n",
    "import torch.nn as nn\n",
    "import torch.nn.functional as F\n",
    "from torch.utils.data import DataLoader\n",
    "\n",
    "class TwitterSpamDetector(nn.Module):\n",
    "    def __init__(self, num_tokens, emb_size, num_heads, hidden_size, num_layers, dropout_prob, num_following, num_followers, num_actions):\n",
    "        super().__init__()\n",
    "        \n",
    "        # Embedding layer\n",
    "        self.embedding = nn.Embedding(num_tokens, emb_size)\n",
    "        \n",
    "        # Transformer encoder\n",
    "        self.encoder_layer = nn.TransformerEncoderLayer(emb_size, num_heads, hidden_size, dropout_prob)\n",
    "        self.transformer_encoder = nn.TransformerEncoder(self.encoder_layer, num_layers)\n",
    "        \n",
    "        # MLP layers\n",
    "        self.mlp = nn.Sequential(\n",
    "            nn.Linear(emb_size + num_following + num_followers + num_actions + 1, 256),\n",
    "            nn.ReLU(),\n",
    "            nn.Linear(256, 128),\n",
    "            nn.ReLU(),\n",
    "            nn.Linear(128, 64),\n",
    "            nn.ReLU(),\n",
    "            nn.Linear(64, 32),\n",
    "            nn.ReLU(),\n",
    "            nn.Linear(32, 2)\n",
    "        )\n",
    "\n",
    "        self.num_following = num_following\n",
    "        self.num_followers = num_followers\n",
    "        self.num_actions = num_actions\n",
    "        \n",
    "    def forward(self, x, following, followers, actions, is_retweet):\n",
    "        # Encode input sequence with Transformer\n",
    "        x = self.embedding(x)\n",
    "        x = self.transformer_encoder(x)\n",
    "\n",
    "        # Concatenate normalized input values\n",
    "        following_norm = following.float()\n",
    "        followers_norm = followers.float()\n",
    "        actions_norm = actions.float()\n",
    "        is_retweet = is_retweet.float()\n",
    "        input_vec = torch.cat([x.mean(dim=1), following_norm.unsqueeze(1), followers_norm.unsqueeze(1), actions_norm.unsqueeze(1), is_retweet.unsqueeze(1)], dim=1)\n",
    "\n",
    "        # Pass through MLP layers\n",
    "        y = self.mlp(input_vec)\n",
    "\n",
    "        return y\n"
   ]
  }
 ],
 "metadata": {
  "kernelspec": {
   "display_name": "Python 3 (ipykernel)",
   "language": "python",
   "name": "python3"
  },
  "language_info": {
   "codemirror_mode": {
    "name": "ipython",
    "version": 3
   },
   "file_extension": ".py",
   "mimetype": "text/x-python",
   "name": "python",
   "nbconvert_exporter": "python",
   "pygments_lexer": "ipython3",
   "version": "3.9.6"
  }
 },
 "nbformat": 4,
 "nbformat_minor": 5
}
